{
 "cells": [
  {
   "cell_type": "markdown",
   "metadata": {},
   "source": [
    "# U.S. Medical Insurance Costs"
   ]
  },
  {
   "cell_type": "markdown",
   "metadata": {},
   "source": [
    "Inspecte the file of issurance"
   ]
  },
  {
   "cell_type": "code",
   "execution_count": 38,
   "metadata": {},
   "outputs": [
    {
     "name": "stdout",
     "output_type": "stream",
     "text": [
      "{'age': '19', 'sex': 'female', 'bmi': '27.9', 'children': '0', 'smoker': 'yes', 'region': 'southwest', 'charges': '16884.924'}\n",
      "{'age': '18', 'sex': 'male', 'bmi': '33.77', 'children': '1', 'smoker': 'no', 'region': 'southeast', 'charges': '1725.5523'}\n",
      "{'age': '28', 'sex': 'male', 'bmi': '33', 'children': '3', 'smoker': 'no', 'region': 'southeast', 'charges': '4449.462'}\n",
      "{'age': '33', 'sex': 'male', 'bmi': '22.705', 'children': '0', 'smoker': 'no', 'region': 'northwest', 'charges': '21984.47061'}\n",
      "{'age': '32', 'sex': 'male', 'bmi': '28.88', 'children': '0', 'smoker': 'no', 'region': 'northwest', 'charges': '3866.8552'}\n",
      "{'age': '31', 'sex': 'female', 'bmi': '25.74', 'children': '0', 'smoker': 'no', 'region': 'southeast', 'charges': '3756.6216'}\n",
      "{'age': '46', 'sex': 'female', 'bmi': '33.44', 'children': '1', 'smoker': 'no', 'region': 'southeast', 'charges': '8240.5896'}\n",
      "{'age': '61', 'sex': 'female', 'bmi': '29.07', 'children': '0', 'smoker': 'yes', 'region': 'northwest', 'charges': '29141.3603'}\n"
     ]
    }
   ],
   "source": [
    "import csv\n",
    "\n",
    "insurance_data = {}\n",
    "\n",
    "with open(\"insurance.csv\", newline='') as csvfile:\n",
    "    insurance = csv.DictReader(csvfile)\n",
    "    n = 0\n",
    "    for row in insurance :\n",
    "        print(row)\n",
    "        insurance_data[n] = row\n",
    "        n+=1"
   ]
  },
  {
   "cell_type": "markdown",
   "metadata": {},
   "source": [
    "Calculate the average age of the patients"
   ]
  },
  {
   "cell_type": "code",
   "execution_count": 50,
   "metadata": {},
   "outputs": [
    {
     "data": {
      "text/plain": [
       "39.20702541106129"
      ]
     },
     "execution_count": 50,
     "metadata": {},
     "output_type": "execute_result"
    }
   ],
   "source": [
    "def averageAge(insurance_data) :\n",
    "    total = 0\n",
    "    for row in insurance_data :\n",
    "        total += int(insurance_data[row]['age'])\n",
    "    average = total /len(insurance_data)\n",
    "    return average\n",
    "\n",
    "averageAge(insurance_data)"
   ]
  },
  {
   "cell_type": "markdown",
   "metadata": {},
   "source": [
    "Determine from where the majority of the people are from"
   ]
  },
  {
   "cell_type": "code",
   "execution_count": 76,
   "metadata": {},
   "outputs": [
    {
     "name": "stdout",
     "output_type": "stream",
     "text": [
      "{'southwest': 325, 'southeast': 364, 'northwest': 325, 'northeast': 324}\n"
     ]
    }
   ],
   "source": [
    "def originPatient(insurance_data) :\n",
    "    places = {}\n",
    "    for row in insurance_data :\n",
    "        region = insurance_data[row]['region']\n",
    "        if region in places : \n",
    "            places[region] += 1\n",
    "        else :\n",
    "            places[region] = 1\n",
    "    return places\n",
    "print(originPatient(insurance_data))"
   ]
  },
  {
   "cell_type": "markdown",
   "metadata": {},
   "source": [
    "Determine the difference cost for being a smoker and a not smoker"
   ]
  },
  {
   "cell_type": "code",
   "execution_count": 148,
   "metadata": {},
   "outputs": [
    {
     "data": {
      "text/plain": [
       "'The difference in average costs between 274 smokers ($8781763.52) and 1064 non-smokers ($8974061.47) is on average $32050.23 - $8434.27 = $23615.96.'"
      ]
     },
     "execution_count": 148,
     "metadata": {},
     "output_type": "execute_result"
    }
   ],
   "source": [
    "def averageCostsDifferenceSmoker(insurance_data) :\n",
    "    totals = {\n",
    "        \"smoker\": {\"count\": 0, \"cost\": 0},\n",
    "        \"no_smoker\": {\"count\": 0, \"cost\": 0}\n",
    "    }\n",
    "    for row in insurance_data.values() :\n",
    "        key = \"smoker\" if row[\"smoker\"] == \"yes\" else \"no_smoker\"\n",
    "        totals[key][\"count\"] += 1\n",
    "        totals[key][\"cost\"] += float(row[\"charges\"])\n",
    "        \n",
    "    average_smoker = totals[\"smoker\"][\"cost\"] / totals[\"smoker\"][\"count\"]\n",
    "    average_no_smoker = totals[\"no_smoker\"][\"cost\"] / totals[\"no_smoker\"][\"count\"]\n",
    "    difference = average_smoker - average_no_smoker\n",
    "    return (f\"The difference in average costs between {totals['smoker']['count']} smokers \"\n",
    "        f\"(${totals['smoker']['cost']:.2f}) and {totals['no_smoker']['count']} non-smokers \"\n",
    "        f\"(${totals['no_smoker']['cost']:.2f}) is on average \"\n",
    "        f\"${average_smoker:.2f} - ${average_no_smoker:.2f} = ${difference:.2f}.\")\n",
    "\n",
    "averageCostsDifferenceSmoker(insurance_data)"
   ]
  },
  {
   "cell_type": "markdown",
   "metadata": {},
   "source": [
    "Calculate the number of patients who have one child over a year old"
   ]
  },
  {
   "cell_type": "code",
   "execution_count": 182,
   "metadata": {},
   "outputs": [
    {
     "data": {
      "text/plain": [
       "764"
      ]
     },
     "execution_count": 182,
     "metadata": {},
     "output_type": "execute_result"
    }
   ],
   "source": [
    "def countWithChild(insurance_data) :\n",
    "    total = 0\n",
    "    for row in insurance_data :\n",
    "        if int(insurance_data[row]['children']) >= 1 :\n",
    "            total += 1\n",
    "        # total += 1 if insurance_data[row]['children'] >= 1 else 0\n",
    "    return total\n",
    "\n",
    "countWithChild(insurance_data)"
   ]
  }
 ],
 "metadata": {
  "kernelspec": {
   "display_name": "Python [conda env:base] *",
   "language": "python",
   "name": "conda-base-py"
  },
  "language_info": {
   "codemirror_mode": {
    "name": "ipython",
    "version": 3
   },
   "file_extension": ".py",
   "mimetype": "text/x-python",
   "name": "python",
   "nbconvert_exporter": "python",
   "pygments_lexer": "ipython3",
   "version": "3.12.7"
  }
 },
 "nbformat": 4,
 "nbformat_minor": 4
}
